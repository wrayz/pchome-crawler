{
 "cells": [
  {
   "cell_type": "code",
   "execution_count": 1,
   "metadata": {},
   "outputs": [],
   "source": [
    "from custom_crawler.pchome import PChome\n",
    "\n",
    "pchome = PChome('氣座') # hard code\n",
    "page = pchome.get_page()"
   ]
  },
  {
   "cell_type": "code",
   "execution_count": 10,
   "metadata": {},
   "outputs": [
    {
     "name": "stdout",
     "output_type": "stream",
     "text": [
      "普特車旅精品【BK0136】機車防曬隔熱坐墊套 蜂窩網狀透氣座墊套 摩托車電動車座椅網套通風防水排汗速乾防滑清涼散熱耐磨\n",
      "充氣座椅\n",
      "《F1單車》全新5色高彈力中空透氣座墊 舒適柔軟高避震座椅 附高反光安全貼 自行車坐墊 坐椅【此批貨升級為避震球款】\n",
      "【OBL 歐貝莉2】加厚加寬加高款寶寶嬰兒充氣椅充氣幫寶椅充氣沙發多功能學坐充氣餐椅靠背浴凳座椅墊沐浴椅洗澡椅充氣坐椅充氣座椅\n",
      "現貨3D立體透氣座椅靠枕墊 餐椅、推車皆通用\n",
      "現貨3D立體透氣座椅靠枕墊 餐椅、推車皆通用\n",
      "探險家戶外用品㊣NO.73860015 日本品牌LOGOS 睡坐兩用枕(36*35*5.5cm) 充氣座墊 充氣枕頭\n",
      "Cybex 原廠汽車安全座椅透氣座套-白色(通用款)\n",
      "ZC55210吹氣座墊/絨布睡枕(可折疊多用途)\n",
      "《F1單車》全新5色高彈力中空透氣座墊 舒適柔軟高避震 附高反光安全貼 自行車坐墊 坐椅【此批貨升級為避震球款】\n",
      "MARSPRO 舒適型透氣座墊(U-BIKE)，柔軟舒適，黑色《A70-302》\n",
      "Bestway 34091嬰幼兒防曬遮陽充氣座式游泳圈\n",
      "【小世界玩具行】機車手推車機車椅-加寬加大抗UV遮陽蓬罩，YSF專利設計後輪2段高低調整，車輪寬厚2.2cm，台灣車工透氣座墊布\n",
      "【北極海咖啡@板橋】正晃行AKIRAKOKI 迷你瓦斯爐(登山爐)HT-5013P(附充氣座)\n",
      "【小世界玩具行】機車手推車機車椅-加寬加大抗UV遮陽蓬罩，YSF專利設計後輪2段高低調整，車輪寬厚2.2cm，台灣車工透氣座墊布\n",
      "探險家戶外用品㊣NO.73860013 日本品牌LOGOS 睡坐兩用枕36*35*5.5cm 充氣座墊 充氣枕頭\n",
      "🎉加厚加寬寶寶充氣座椅(5色)🎉\n",
      "《100%台灣製》最新 第二代 車用 冷氣座墊 黑色 冷風坐墊 背部涼涼 高品質 風速強 12V賣場\n",
      "【名流寢飾家居館】100%純天然乳膠坐墊．單人坐墊．45x45cm．馬來西亞進口．3D透氣座墊布套\n",
      "【PVC膠水修補包】AP0123 修補膠水 修補片 充氣游泳圈球池 充氣用品修補片 修補包 充氣座椅 床墊 沙發 球池\n"
     ]
    }
   ],
   "source": [
    "# 取得title\n",
    "results = page.find_all('div', class_='pic2t pic2t_bg')\n",
    "for item in results:\n",
    "    print(item.get_text())"
   ]
  }
 ],
 "metadata": {
  "kernelspec": {
   "display_name": "Python 3",
   "language": "python",
   "name": "python3"
  },
  "language_info": {
   "codemirror_mode": {
    "name": "ipython",
    "version": 3
   },
   "file_extension": ".py",
   "mimetype": "text/x-python",
   "name": "python",
   "nbconvert_exporter": "python",
   "pygments_lexer": "ipython3",
   "version": "3.7.2"
  }
 },
 "nbformat": 4,
 "nbformat_minor": 2
}
