{
 "cells": [
  {
   "cell_type": "code",
   "execution_count": 15,
   "metadata": {},
   "outputs": [],
   "source": [
    "from custom_crawler.pchome import PChome\n",
    "from custom_crawler.selenium_pchome import SeleniumPchome\n",
    "from bs4 import BeautifulSoup\n",
    "\n",
    "keyword = '鞋子'\n",
    "pchome = SeleniumPchome()\n",
    "page = BeautifulSoup(pchome.get_page(keyword), 'html.parser')"
   ]
  },
  {
   "cell_type": "code",
   "execution_count": 16,
   "metadata": {},
   "outputs": [
    {
     "name": "stdout",
     "output_type": "stream",
     "text": [
      "特厚8mm後跟貼後腫貼 頂級觸感柔軟反毛皮 TOMS解決鞋大一號問題 鞋子不再掉鞋 老顧客最愛推薦  Dr.shoes鞋材輔助用品\n",
      "韓國 bikit GUARD 天然植物精油防蚊扣 驅蚊扣 防蚊夾 大人小孩 包包衣服鞋子 E-41\n",
      "行軍遠走足弓鞋墊 / 登山 / 長途走路 (增厚型足弓墊) (MIT台灣製造) 久站 / 讓你的鞋子變成足弓鞋\n",
      "一體式可調節雙層鞋架 簡易鞋托架 鞋櫃省空間鞋子收納架 3色可選【SA223】《約翰家庭百貨\n",
      "○糊塗鞋匠○ 優質鞋材 G63 防雨鞋套 鞋子的雨衣 下雨 防水 梅雨 騎機車可用\n",
      "反毛皮5mm後跟貼 ※解決大半號防止鞋子掉鞋鬆脫 露趾魚口 楔型厚底 高跟鞋娃娃鞋  買六送一  Dr.shoes鞋材輔助用品 \n",
      "【全新現貨】浴室拖鞋  男女情侣款  防滑拖鞋  室内拖鞋 鞋子 止滑鞋 室內鞋 海灘鞋 輕便拖鞋\n",
      "Candy World~第二代旅行鞋袋 防水鞋盒 鞋子 收納包 行李袋 衣物收納袋 收納箱 包中包 旅行收納 CW052\n",
      "三代防蚊手環 天然植物精油防蚊手環 驅蚊防蚊 小米同款 大人小孩 包包衣服鞋子\n",
      "鞋架 收納鞋架 可調式 一體式鞋架 簡易鞋子收納架 馬卡龍鞋架 可調是鞋架 收納架 鞋櫃鞋架\n",
      "客訂 鞋子\n",
      "穿過的二手鞋子\n",
      "透明抽屜式膠框鞋盒女款 彩色邊框鞋子收納盒 DIY組合式鞋盒 整理箱 置物盒 5色可選 換季收納【SA252】《約翰家庭百貨\n",
      "加厚款10MM 真皮 足跟貼 新鞋磨腳 鞋子後腳跟太鬆 鞋子太大 後足跟磨腳 腳後跟磨鞋 後跟貼 足跟貼 後踵貼 牛皮鞋墊 鞋材 腳磨鞋\n",
      "Angel鞋子\n",
      "○糊塗鞋匠○ 優質鞋材 N33 台灣製造 YKK拉鍊頭 外套 包包 鞋子 皮夾 DIY 維修 修理\n",
      "橡膠染色劑.鞋邊染色劑.鞋子染色.皮革染料.皮革染劑.洗鞋子創業.精品鞋.修鞋子.洗包店.運動用品專賣店.\n",
      "鞋子\n"
     ]
    }
   ],
   "source": [
    "results = page.find_all('div', class_='pic2t pic2t_bg')\n",
    "for item in results:\n",
    "    print(item.get_text())"
   ]
  }
 ],
 "metadata": {
  "kernelspec": {
   "display_name": "Python 3",
   "language": "python",
   "name": "python3"
  },
  "language_info": {
   "codemirror_mode": {
    "name": "ipython",
    "version": 3
   },
   "file_extension": ".py",
   "mimetype": "text/x-python",
   "name": "python",
   "nbconvert_exporter": "python",
   "pygments_lexer": "ipython3",
   "version": "3.7.2"
  }
 },
 "nbformat": 4,
 "nbformat_minor": 2
}
